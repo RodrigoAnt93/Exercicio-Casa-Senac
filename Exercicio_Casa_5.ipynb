{
  "cells": [
    {
      "cell_type": "markdown",
      "metadata": {
        "id": "view-in-github",
        "colab_type": "text"
      },
      "source": [
        "<a href=\"https://colab.research.google.com/github/RodrigoAnt93/Exercicio-Casa-Senac/blob/main/Exercicio_Casa_5.ipynb\" target=\"_parent\"><img src=\"https://colab.research.google.com/assets/colab-badge.svg\" alt=\"Open In Colab\"/></a>"
      ]
    },
    {
      "cell_type": "code",
      "execution_count": null,
      "metadata": {
        "id": "_p0qkknBp312"
      },
      "outputs": [],
      "source": [
        "class Pessoa():\n",
        "  def __init__(self, name, age):\n",
        "    self.nome = name\n",
        "    self.idade = age\n",
        "\n",
        "\n",
        "  def nascimento(self, idade):\n",
        "    return(2022 - idade)\n",
        "\n"
      ]
    },
    {
      "cell_type": "code",
      "execution_count": null,
      "metadata": {
        "colab": {
          "base_uri": "https://localhost:8080/"
        },
        "id": "FyiXEITWquy2",
        "outputId": "68ac6f26-47ce-4df3-8f7f-eb5f51c8af76"
      },
      "outputs": [
        {
          "name": "stdout",
          "output_type": "stream",
          "text": [
            "Rodrigo\n",
            "29\n"
          ]
        },
        {
          "data": {
            "text/plain": [
              "1993"
            ]
          },
          "execution_count": 48,
          "metadata": {},
          "output_type": "execute_result"
        }
      ],
      "source": [
        "pessoa1 = Pessoa('Rodrigo', 29)\n",
        "print(pessoa1.nome)\n",
        "print(pessoa1.idade)\n",
        "pessoa1.nascimento(29)"
      ]
    },
    {
      "cell_type": "code",
      "execution_count": null,
      "metadata": {
        "id": "t9BwTSXgsFJw"
      },
      "outputs": [],
      "source": [
        "listaDePessoas = []\n",
        "for i in range(5):\n",
        "  nome = str(input('Nome: ')).title\n",
        "  idade = int(input('Idade: '))\n",
        "  pessoa = Pessoa(nome, idade)\n",
        "  listaDePessoas.append(pessoa)\n",
        "\n",
        "for objeto in range(len(listaDePessoas)):\n",
        "  print(\"Nome: %s, idade: %d \" %(listaDePessoas[objeto].nome, listaDePessoas[objeto].idade))]"
      ]
    },
    {
      "cell_type": "code",
      "execution_count": 11,
      "metadata": {
        "id": "x9UQVBBL9w0O"
      },
      "outputs": [],
      "source": [
        "class Pessoa():\n",
        "  def __init__(self, name, age):\n",
        "    self.nome = name\n",
        "    self.idade = age\n",
        "  \n",
        "\n",
        "  def saudacao(nome):\n",
        "    print(f'Seja bem-vindo ao SENAC, {nome}')\n",
        "\n",
        "\n",
        "class PessoaFisica(Pessoa):\n",
        "  def __init__(self, nome, idade, cpf):\n",
        "    Pessoa.__init__(self, nome, idade)\n",
        "    self.cpf = cpf\n",
        "\n",
        "\n",
        "  def saudacao(nome):\n",
        "    print(f'Seja bem-vindo ao SENAC, {nome}')\n",
        "  \n",
        "\n",
        "  def impostoRenda(salario):\n",
        "    ir = salario / 100 * 1.5\n",
        "    return print(f'Sua taxa de IR é de 1,5% e seu salário fica {salario - ir}')\n",
        "\n",
        "\n",
        "  def multi_Ir_Salario(*salario):\n",
        "    for s in salario:\n",
        "      ir = s / 100 * 1.5\n",
        "      print(f'Sua taxa de IR é de 1,5% e seu salário fica {s - ir}')\n",
        "\n",
        "\n",
        "class PessoaJuridica(Pessoa):\n",
        "  def __init__(self, nome, idade, cnpj):\n",
        "    Pessoa.__init__(self, nome, idade)\n",
        "    self.cnpj = cnpj\n",
        "\n",
        "\n",
        "  def saudacao(nome):\n",
        "    print(f'Seja bem-vindo ao SENAC, {nome}')  \n",
        "\n",
        "\n",
        "  def impostoRenda(salario, porte):\n",
        "    \n",
        "    port_imp = 0\n",
        "\n",
        "    if porte == \"pequeno\":\n",
        "      port_imp += 10\n",
        "    elif porte == 'medio':\n",
        "      port_imp += 15\n",
        "    elif porte == 'grande':\n",
        "      port_imp += 20\n",
        "    ir = salario / 100 * port_imp\n",
        "    return print(f'Sua taxa de IR é de {port_imp}% e seu salário fica {salario - ir:.2f}')"
      ]
    },
    {
      "cell_type": "code",
      "execution_count": null,
      "metadata": {
        "id": "JguJuK0i-rz4"
      },
      "outputs": [],
      "source": [
        "PessoaFisica.multi_Ir_Salario(1200, 20000, 3000, 1000)"
      ]
    },
    {
      "cell_type": "code",
      "execution_count": 9,
      "metadata": {
        "id": "RDWAeFAU-r7j",
        "colab": {
          "base_uri": "https://localhost:8080/"
        },
        "outputId": "c3fcdd23-cb4a-4828-e329-99617709788f"
      },
      "outputs": [
        {
          "output_type": "stream",
          "name": "stdout",
          "text": [
            "23566633252\n"
          ]
        }
      ],
      "source": [
        "cliente = PessoaFisica('Rodrigo', 25, 23566633252)\n",
        "print(cliente.cpf)"
      ]
    },
    {
      "cell_type": "code",
      "source": [
        "cliente2 = PessoaJuridica(\"Cecilia\", 3, 25444569885)"
      ],
      "metadata": {
        "id": "RQhQ8oJyqwCI"
      },
      "execution_count": null,
      "outputs": []
    },
    {
      "cell_type": "code",
      "source": [
        "cliente3 = PessoaJuridica.impostoRenda(100, 'grande')"
      ],
      "metadata": {
        "colab": {
          "base_uri": "https://localhost:8080/"
        },
        "id": "hjjG8q9eCBPf",
        "outputId": "10b60bb4-ef72-432d-ba83-a03bb0944914"
      },
      "execution_count": null,
      "outputs": [
        {
          "output_type": "stream",
          "name": "stdout",
          "text": [
            "Sua taxa de IR é de 20% e seu salário fica 80.00\n"
          ]
        }
      ]
    },
    {
      "cell_type": "code",
      "source": [
        "print('=-'*5, '  PROGRAMA IR  ', '=-'*5)\n",
        "print()\n",
        "opc1 = int(input('Digite 1 para Pessoa Fisica. \\nDigite 2 para Pessoa Jurídica. \\nEscolha: '))\n",
        "print()\n",
        "if opc1 == 1:\n",
        "  nome = str(input('Nome: ')).title\n",
        "  idade = int(input('Idade: '))\n",
        "  cpf = int(input('CPF: '))\n",
        "  clint = PessoaFisica(nome, idade, cpf)\n",
        "  print()\n",
        "  sal = (float(input('Qual o seu salário? ')))\n",
        "  PessoaFisica.impostoRenda(sal)\n",
        "elif opc1 == 2:\n",
        "  nome = str(input('Nome: ')).title\n",
        "  idade = int(input('Idade: '))\n",
        "  cnpj = int(input('CNPJ: '))\n",
        "  clint = PessoaJuridica(nome, idade, cnpj)\n",
        "  print()\n",
        "  receita = float(input('Qual a receita da empresa? '))\n",
        "  porte = str(input('Qual o porte da empresa: '))\n",
        "  PessoaJuridica.impostoRenda(receita, porte)"
      ],
      "metadata": {
        "id": "o8F-l0w1PhWg",
        "colab": {
          "base_uri": "https://localhost:8080/"
        },
        "outputId": "f66cd5ac-f991-40b7-cae0-1ac4eab96645"
      },
      "execution_count": 17,
      "outputs": [
        {
          "output_type": "stream",
          "name": "stdout",
          "text": [
            "=-=-=-=-=-   PROGRAMA IR   =-=-=-=-=-\n",
            "\n",
            "Digite 1 para Pessoa Fisica. \n",
            "Digite 2 para Pessoa Jurídica. \n",
            "Escolha: 2\n",
            "\n",
            "Nome: Rodrigo\n",
            "Idade: 232\n",
            "CNPJ: 123132131313123\n",
            "\n",
            "Qual a receita da empresa? 100\n",
            "Qual o porte da empresa: pequena\n",
            "Sua taxa de IR é de 0% e seu salário fica 100.00\n"
          ]
        }
      ]
    }
  ],
  "metadata": {
    "colab": {
      "provenance": [],
      "authorship_tag": "ABX9TyMzuxMcX2dyL487DjAUxwVF",
      "include_colab_link": true
    },
    "kernelspec": {
      "display_name": "Python 3",
      "name": "python3"
    },
    "language_info": {
      "name": "python"
    }
  },
  "nbformat": 4,
  "nbformat_minor": 0
}