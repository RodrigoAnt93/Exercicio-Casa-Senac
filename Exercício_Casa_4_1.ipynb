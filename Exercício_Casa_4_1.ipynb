{
  "nbformat": 4,
  "nbformat_minor": 0,
  "metadata": {
    "colab": {
      "provenance": [],
      "authorship_tag": "ABX9TyPRfNAuFb0jvlt12mAT+yBc",
      "include_colab_link": true
    },
    "kernelspec": {
      "name": "python3",
      "display_name": "Python 3"
    },
    "language_info": {
      "name": "python"
    }
  },
  "cells": [
    {
      "cell_type": "markdown",
      "metadata": {
        "id": "view-in-github",
        "colab_type": "text"
      },
      "source": [
        "<a href=\"https://colab.research.google.com/github/RodrigoAnt93/Exercicio-Casa-Senac/blob/main/Exerc%C3%ADcio_Casa_4_1.ipynb\" target=\"_parent\"><img src=\"https://colab.research.google.com/assets/colab-badge.svg\" alt=\"Open In Colab\"/></a>"
      ]
    },
    {
      "cell_type": "code",
      "execution_count": null,
      "metadata": {
        "id": "Keo09rbsWwsN"
      },
      "outputs": [],
      "source": [
        "contador = 0\n",
        "while contador < 100:\n",
        "  print(contador)\n",
        "  contador += 1"
      ]
    },
    {
      "cell_type": "code",
      "source": [
        "lista = []\n",
        "var = 4\n",
        "\n",
        "while var < 20:\n",
        "  if var % 2 == 0:\n",
        "    lista.append(var)\n",
        "  var += 1\n",
        "print(lista)"
      ],
      "metadata": {
        "id": "q52HxtvfW-TT"
      },
      "execution_count": null,
      "outputs": []
    },
    {
      "cell_type": "code",
      "source": [
        "temperatura = float(input('Qual a temperatura? '))\n",
        "if temperatura > 30:\n",
        "  print('Vista roupas leves.')\n",
        "else:\n",
        "  print('Busque seus casacos.')"
      ],
      "metadata": {
        "id": "phyZoxgCX1Mg"
      },
      "execution_count": null,
      "outputs": []
    },
    {
      "cell_type": "code",
      "source": [
        "mestre = 'Educação não transforma o mundo. Educação muda pessoas. Pessoas transformam o mundo.'\n",
        "print(mestre.count('s'))\n",
        "#Adorei esse desafio.\n"
      ],
      "metadata": {
        "id": "reY0i-sTYGjz"
      },
      "execution_count": null,
      "outputs": []
    },
    {
      "cell_type": "code",
      "source": [
        "lista = ['a', 'b', 'c', 'd', 'e', 'f', 'g', 'h']\n",
        "print(lista[6:])"
      ],
      "metadata": {
        "id": "SSSOdfApYo0O"
      },
      "execution_count": null,
      "outputs": []
    },
    {
      "cell_type": "code",
      "source": [
        "dict1 = {'a':1,'b':2} \n",
        "dict2 = {'c':4,'d':5}\n",
        "dict3 = {}\n",
        "for k in dict1.keys():\n",
        "  for v in dict2.values():\n",
        "    if len(dict3) == 0:\n",
        "      dict3[f'{k}'] = v\n",
        "      break\n",
        "    else: \n",
        "      dict3[f'{k}'] = v\n",
        "print(dict3)"
      ],
      "metadata": {
        "colab": {
          "base_uri": "https://localhost:8080/"
        },
        "id": "FOYtuBZPY3X7",
        "outputId": "9769cab2-0acb-4781-da47-05be75de81ce"
      },
      "execution_count": 51,
      "outputs": [
        {
          "output_type": "stream",
          "name": "stdout",
          "text": [
            "{'a': 4, 'b': 5}\n"
          ]
        }
      ]
    },
    {
      "cell_type": "code",
      "source": [
        "for um_valor in range(10):\n",
        "  print(um_valor)"
      ],
      "metadata": {
        "id": "qdHOvrxrkd2g"
      },
      "execution_count": null,
      "outputs": []
    },
    {
      "cell_type": "code",
      "source": [
        "for um_char in \"Venha para a festa\":\n",
        "  print(um_char)"
      ],
      "metadata": {
        "id": "vQQT3JsKkgzb"
      },
      "execution_count": null,
      "outputs": []
    },
    {
      "cell_type": "code",
      "source": [],
      "metadata": {
        "id": "CoE6VUk7mJAp"
      },
      "execution_count": null,
      "outputs": []
    }
  ]
}