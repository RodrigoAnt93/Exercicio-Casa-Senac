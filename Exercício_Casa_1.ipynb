{
  "nbformat": 4,
  "nbformat_minor": 0,
  "metadata": {
    "colab": {
      "provenance": []
    },
    "kernelspec": {
      "name": "python3",
      "display_name": "Python 3"
    },
    "language_info": {
      "name": "python"
    }
  },
  "cells": [
    {
      "cell_type": "code",
      "execution_count": null,
      "metadata": {
        "colab": {
          "base_uri": "https://localhost:8080/"
        },
        "id": "OTKgZQTVh9qt",
        "outputId": "d40d0729-e70b-40c4-c39c-7bbbf2ed7a01"
      },
      "outputs": [
        {
          "output_type": "stream",
          "name": "stdout",
          "text": [
            "A soma de a + b é: soma\n"
          ]
        }
      ],
      "source": [
        "a = 3\n",
        "b = 4\n",
        "print('A soma de a + b é: soma')"
      ]
    },
    {
      "cell_type": "markdown",
      "source": [
        "1) O código não funcionou para seu propósito por que a \"soma\" deveria está fora das aspas e separada por uma vírgula para mostrar o dado guardado na variável \"soma\"."
      ],
      "metadata": {
        "id": "VslvGxqoib3i"
      }
    },
    {
      "cell_type": "code",
      "source": [
        "a = 3\n",
        "b = 4\n",
        "soma = a + b\n",
        "print(\"A soma de a + b é:\", soma)\n"
      ],
      "metadata": {
        "colab": {
          "base_uri": "https://localhost:8080/"
        },
        "id": "zlBCEuP3i6Po",
        "outputId": "5f58e4ed-5ee1-4dbb-b65c-4e14b63310a8"
      },
      "execution_count": null,
      "outputs": [
        {
          "output_type": "stream",
          "name": "stdout",
          "text": [
            "A soma de a + b é: 7\n"
          ]
        }
      ]
    },
    {
      "cell_type": "markdown",
      "source": [
        "2) Diferente do código 1, o código 2 foi bem estruturado e mostrou o resultado da soma como desejado. "
      ],
      "metadata": {
        "id": "LcG9hv4jjF57"
      }
    },
    {
      "cell_type": "code",
      "source": [
        "a = 3\n",
        "b = 4\n",
        "soma = a + b\n",
        "print(\"A soma de\", a, \"+\", b, \"é:\", soma)"
      ],
      "metadata": {
        "colab": {
          "base_uri": "https://localhost:8080/"
        },
        "id": "cNn9mmRRjbPq",
        "outputId": "24deec52-696d-4ea1-d9b3-a1ee6321be5b"
      },
      "execution_count": null,
      "outputs": [
        {
          "output_type": "stream",
          "name": "stdout",
          "text": [
            "A soma de 3 + 4 é: 7\n"
          ]
        }
      ]
    },
    {
      "cell_type": "markdown",
      "source": [
        "3) O código 3 separou as variáveis \"a\" e \"b\" para poder aparecer no print com seus valores. No final ela colocou a variável \"soma\"."
      ],
      "metadata": {
        "id": "LryLwLrpjp_5"
      }
    },
    {
      "cell_type": "code",
      "source": [
        "PROMPT_1 = \"Digite o primeiro numero: \"\n",
        "PROMPT_2 = \"Digite o segundo numero: \"\n",
        "a = input(PROMPT_1)\n",
        "b = input(PROMPT_2)\n",
        "soma = a + b\n",
        "print(\"A soma de\", a, \"+\", b, \"é:\", soma)\n"
      ],
      "metadata": {
        "colab": {
          "base_uri": "https://localhost:8080/"
        },
        "id": "xfIdB5epkP9e",
        "outputId": "8ab08304-21bb-45be-9155-aca2ad02022b"
      },
      "execution_count": null,
      "outputs": [
        {
          "output_type": "stream",
          "name": "stdout",
          "text": [
            "Digite o primeiro numero: 2\n",
            "Digite o segundo numero: 3\n",
            "A soma de 2 + 3 é: 23\n"
          ]
        }
      ]
    },
    {
      "cell_type": "markdown",
      "source": [
        "4) No quarto código não seria necessário criar uma variável com a pergunta que vai no input. Além disso, o input não foi anunciado como formato \"INT\" e com isso a soma na verdade virou só uma concatenação."
      ],
      "metadata": {
        "id": "i86j1ouckfJh"
      }
    },
    {
      "cell_type": "code",
      "source": [
        "a_str = input(\"Digite o primeiro numero: \")\n",
        "b_str = input(\"Digite o segundo numero: \")\n",
        "a_int = int(a_str) # converte string/texto para inteiro\n",
        "b_int = int(b_str) # converte string/texto para inteiro\n",
        "soma = a_int + b_int\n",
        "print(\"A soma de\", a_int, \"+\", b_int, \"eh igual a\", soma)"
      ],
      "metadata": {
        "colab": {
          "base_uri": "https://localhost:8080/"
        },
        "id": "QSIaTH8RlJZo",
        "outputId": "f106fb88-f55b-49bf-f886-e57a2d9e5bb5"
      },
      "execution_count": null,
      "outputs": [
        {
          "output_type": "stream",
          "name": "stdout",
          "text": [
            "Digite o primeiro numero: 5\n",
            "Digite o segundo numero: 2\n",
            "A soma de 5 + 2 eh igual a 7\n"
          ]
        }
      ]
    },
    {
      "cell_type": "markdown",
      "source": [
        "5) A lógica está correta, a finalidade foi alcançada. Mas, para um código mais enxuto, declararia o input como \"int\" e não seria necessário fazer uma conversão depois. "
      ],
      "metadata": {
        "id": "E3c3mTGNlVQB"
      }
    },
    {
      "cell_type": "code",
      "source": [
        "a = int(input(\"Digite o primeiro numero: \"))\n",
        "b = int(input(\"Digite o segundo numero: \"))\n",
        "soma = a + b\n",
        "print(\"A soma de\", a, \"+\", b, \"eh igual a\", soma)"
      ],
      "metadata": {
        "colab": {
          "base_uri": "https://localhost:8080/"
        },
        "id": "gmprc40YmF5S",
        "outputId": "9e6b6f0c-de01-4ca9-f0de-d99e0bd24345"
      },
      "execution_count": null,
      "outputs": [
        {
          "output_type": "stream",
          "name": "stdout",
          "text": [
            "Digite o primeiro numero: 5\n",
            "Digite o segundo numero: 3\n",
            "A soma de 5 + 3 eh igual a 8\n"
          ]
        }
      ]
    },
    {
      "cell_type": "markdown",
      "source": [
        "6) O sexto código está muito bom, só usaria a função \"format\" e o print ficaria: print(f\"A soma de {a} + {b} eh igual a {soma})"
      ],
      "metadata": {
        "id": "aSjCmpFnmLho"
      }
    }
  ]
}