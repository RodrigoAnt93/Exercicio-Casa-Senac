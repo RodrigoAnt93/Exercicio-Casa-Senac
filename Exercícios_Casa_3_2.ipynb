{
  "nbformat": 4,
  "nbformat_minor": 0,
  "metadata": {
    "colab": {
      "provenance": []
    },
    "kernelspec": {
      "name": "python3",
      "display_name": "Python 3"
    },
    "language_info": {
      "name": "python"
    }
  },
  "cells": [
    {
      "cell_type": "code",
      "execution_count": 1,
      "metadata": {
        "id": "87ZVaMthGRK1"
      },
      "outputs": [],
      "source": [
        "palavras = ['codigo', 'linguagem', 'web']"
      ]
    },
    {
      "cell_type": "code",
      "source": [
        "numeros = [18, 123]"
      ],
      "metadata": {
        "id": "9Ln-y5PsG0Fj"
      },
      "execution_count": 2,
      "outputs": []
    },
    {
      "cell_type": "code",
      "source": [
        "vazia = []"
      ],
      "metadata": {
        "id": "w_TNk7o2G36f"
      },
      "execution_count": 3,
      "outputs": []
    },
    {
      "cell_type": "code",
      "source": [
        "lista_mista = ['oi', 2.0, 5*2, [10,20]]"
      ],
      "metadata": {
        "id": "rbp5mr26G6lW"
      },
      "execution_count": 4,
      "outputs": []
    },
    {
      "cell_type": "code",
      "source": [
        "print(numeros)"
      ],
      "metadata": {
        "colab": {
          "base_uri": "https://localhost:8080/"
        },
        "id": "liFLaIdsHXmf",
        "outputId": "1e424015-e710-46a5-ff6d-60ff9b2a8229"
      },
      "execution_count": 5,
      "outputs": [
        {
          "output_type": "stream",
          "name": "stdout",
          "text": [
            "[18, 123]\n"
          ]
        }
      ]
    },
    {
      "cell_type": "code",
      "source": [
        "print(lista_mista)"
      ],
      "metadata": {
        "colab": {
          "base_uri": "https://localhost:8080/"
        },
        "id": "eXZk5uhFHZ3-",
        "outputId": "edad1f67-4b56-4792-c5d9-2e3efd5b87e8"
      },
      "execution_count": 6,
      "outputs": [
        {
          "output_type": "stream",
          "name": "stdout",
          "text": [
            "['oi', 2.0, 10, [10, 20]]\n"
          ]
        }
      ]
    },
    {
      "cell_type": "code",
      "source": [
        "nova_lista = [numeros, palavras]"
      ],
      "metadata": {
        "id": "Oh5BKiwiHdjR"
      },
      "execution_count": 7,
      "outputs": []
    },
    {
      "cell_type": "code",
      "source": [
        "print(nova_lista)"
      ],
      "metadata": {
        "colab": {
          "base_uri": "https://localhost:8080/"
        },
        "id": "4zXQKtQiHh-0",
        "outputId": "f1985452-729f-44c5-c65c-7833b05bdfde"
      },
      "execution_count": 8,
      "outputs": [
        {
          "output_type": "stream",
          "name": "stdout",
          "text": [
            "[[18, 123], ['codigo', 'linguagem', 'web']]\n"
          ]
        }
      ]
    },
    {
      "cell_type": "code",
      "source": [
        "uma_lista = ['oi', 2.0, 5, [10,20]]"
      ],
      "metadata": {
        "id": "qV7VyGpwHldR"
      },
      "execution_count": 9,
      "outputs": []
    },
    {
      "cell_type": "code",
      "source": [
        "print(len(uma_lista))"
      ],
      "metadata": {
        "colab": {
          "base_uri": "https://localhost:8080/"
        },
        "id": "TruX4GS8HtIV",
        "outputId": "daa14ba9-7329-4643-fce6-031c4ca1498c"
      },
      "execution_count": 10,
      "outputs": [
        {
          "output_type": "stream",
          "name": "stdout",
          "text": [
            "4\n"
          ]
        }
      ]
    },
    {
      "cell_type": "code",
      "source": [
        "print(len(['spam!', 1, ['bolo', 'bolacha', 'biscoito'], [1, 2, 3]]))"
      ],
      "metadata": {
        "colab": {
          "base_uri": "https://localhost:8080/"
        },
        "id": "du1qsCCkHwlC",
        "outputId": "757974eb-7fe5-4f62-e570-1189378d9501"
      },
      "execution_count": 11,
      "outputs": [
        {
          "output_type": "stream",
          "name": "stdout",
          "text": [
            "4\n"
          ]
        }
      ]
    },
    {
      "cell_type": "code",
      "source": [
        "numeros = [18, 424, 86, 13, 66, 8338, 74]"
      ],
      "metadata": {
        "id": "3kWnpgn7H-Ak"
      },
      "execution_count": 12,
      "outputs": []
    },
    {
      "cell_type": "code",
      "source": [
        "print(numeros[2])"
      ],
      "metadata": {
        "colab": {
          "base_uri": "https://localhost:8080/"
        },
        "id": "ftGCL0b8IEMq",
        "outputId": "78965be2-3fcb-4c6d-a673-49e7e6154624"
      },
      "execution_count": 13,
      "outputs": [
        {
          "output_type": "stream",
          "name": "stdout",
          "text": [
            "86\n"
          ]
        }
      ]
    },
    {
      "cell_type": "code",
      "source": [
        "print(numeros[9 - 8])"
      ],
      "metadata": {
        "colab": {
          "base_uri": "https://localhost:8080/"
        },
        "id": "DiwWwi9nIIKj",
        "outputId": "b483d060-b02b-4d5b-ecbf-58ea4db0790a"
      },
      "execution_count": 14,
      "outputs": [
        {
          "output_type": "stream",
          "name": "stdout",
          "text": [
            "424\n"
          ]
        }
      ]
    },
    {
      "cell_type": "code",
      "source": [
        "print(numeros[-2])"
      ],
      "metadata": {
        "colab": {
          "base_uri": "https://localhost:8080/"
        },
        "id": "7-XFdIVuIRXn",
        "outputId": "fb11f4de-edef-40c1-f307-69c1d22a58e0"
      },
      "execution_count": 15,
      "outputs": [
        {
          "output_type": "stream",
          "name": "stdout",
          "text": [
            "8338\n"
          ]
        }
      ]
    },
    {
      "cell_type": "code",
      "source": [
        "print(numeros[len(numeros)-1])"
      ],
      "metadata": {
        "colab": {
          "base_uri": "https://localhost:8080/"
        },
        "id": "NJ9Z3gvRIi-d",
        "outputId": "3bab1ee5-bb36-4365-9240-6825a7d208a4"
      },
      "execution_count": 16,
      "outputs": [
        {
          "output_type": "stream",
          "name": "stdout",
          "text": [
            "74\n"
          ]
        }
      ]
    },
    {
      "cell_type": "code",
      "source": [
        "uma_lista = [3, 5, 'Cibele', 3.14, False]"
      ],
      "metadata": {
        "id": "r2ottefOIq-x"
      },
      "execution_count": 17,
      "outputs": []
    },
    {
      "cell_type": "code",
      "source": [
        "print(len(uma_lista))"
      ],
      "metadata": {
        "colab": {
          "base_uri": "https://localhost:8080/"
        },
        "id": "f_VYLil7Iw4o",
        "outputId": "9f48e2c9-61dc-4c64-9445-d39673d39b20"
      },
      "execution_count": 18,
      "outputs": [
        {
          "output_type": "stream",
          "name": "stdout",
          "text": [
            "5\n"
          ]
        }
      ]
    },
    {
      "cell_type": "code",
      "source": [
        "uma_lista = [3, 5, 'Cibele', [88, 99, 'Suely'], [], 3.14, False]"
      ],
      "metadata": {
        "id": "UvEuvNLOI0dj"
      },
      "execution_count": 19,
      "outputs": []
    },
    {
      "cell_type": "code",
      "source": [
        "print(len(uma_lista))"
      ],
      "metadata": {
        "colab": {
          "base_uri": "https://localhost:8080/"
        },
        "id": "LnU4_xKJI_0-",
        "outputId": "80aef0fe-e394-4ce7-ef28-09e9978abba0"
      },
      "execution_count": 20,
      "outputs": [
        {
          "output_type": "stream",
          "name": "stdout",
          "text": [
            "7\n"
          ]
        }
      ]
    },
    {
      "cell_type": "code",
      "source": [
        "uma_lista = [3, 5, 'Cibele', [88, 99, 'Suely'], [], 3.14, False]"
      ],
      "metadata": {
        "id": "sz0XJHJNJFbY"
      },
      "execution_count": 21,
      "outputs": []
    },
    {
      "cell_type": "code",
      "source": [
        "print(uma_lista[5])"
      ],
      "metadata": {
        "colab": {
          "base_uri": "https://localhost:8080/"
        },
        "id": "Qek5fyW9JL0P",
        "outputId": "e0eedf1c-d1e1-465e-91f5-6d7a23a6dc31"
      },
      "execution_count": 22,
      "outputs": [
        {
          "output_type": "stream",
          "name": "stdout",
          "text": [
            "3.14\n"
          ]
        }
      ]
    },
    {
      "cell_type": "code",
      "source": [
        "uma_lista = [3, 5, 'Cibele', [88, 99, 'Suely'], [], 3.14, False]"
      ],
      "metadata": {
        "id": "VINrKMLDJPU5"
      },
      "execution_count": 23,
      "outputs": []
    },
    {
      "cell_type": "code",
      "source": [
        "print(uma_lista[2].upper())"
      ],
      "metadata": {
        "colab": {
          "base_uri": "https://localhost:8080/"
        },
        "id": "wO3jVW4rJR0o",
        "outputId": "74c6deae-e7ec-4e79-dc87-eecc5cbc48f1"
      },
      "execution_count": 24,
      "outputs": [
        {
          "output_type": "stream",
          "name": "stdout",
          "text": [
            "CIBELE\n"
          ]
        }
      ]
    },
    {
      "cell_type": "code",
      "source": [
        "uma_lista = [3, 5, 'Cibele', [88, 99, 'Suely'], [], 3.14, False]"
      ],
      "metadata": {
        "id": "TjOIIuoLJZir"
      },
      "execution_count": 25,
      "outputs": []
    },
    {
      "cell_type": "code",
      "source": [
        "print(uma_lista[2][0])"
      ],
      "metadata": {
        "colab": {
          "base_uri": "https://localhost:8080/"
        },
        "id": "b7cne_vPJcEl",
        "outputId": "4cb2fa36-d5c3-464e-efea-08a2b1c17bb9"
      },
      "execution_count": 26,
      "outputs": [
        {
          "output_type": "stream",
          "name": "stdout",
          "text": [
            "C\n"
          ]
        }
      ]
    },
    {
      "cell_type": "code",
      "source": [
        "uma_lista = [3, 5, 'Cibele', [88, 99, 'Suely'], [], 3.14, False]"
      ],
      "metadata": {
        "id": "0WVnXPxaJjXI"
      },
      "execution_count": 27,
      "outputs": []
    },
    {
      "cell_type": "code",
      "source": [
        "print(3.14 in uma_lista)"
      ],
      "metadata": {
        "colab": {
          "base_uri": "https://localhost:8080/"
        },
        "id": "9FmW9FRbJknD",
        "outputId": "c3553834-b62a-4ff3-d9b5-130751077e72"
      },
      "execution_count": 28,
      "outputs": [
        {
          "output_type": "stream",
          "name": "stdout",
          "text": [
            "True\n"
          ]
        }
      ]
    },
    {
      "cell_type": "code",
      "source": [
        "uma_lista = [3, 5, 'Cibele', [88, 99, 'Suely'], [], 3.14, False]"
      ],
      "metadata": {
        "id": "Bq9x2qWmJoWq"
      },
      "execution_count": 29,
      "outputs": []
    },
    {
      "cell_type": "code",
      "source": [
        "print(88 in uma_lista)"
      ],
      "metadata": {
        "colab": {
          "base_uri": "https://localhost:8080/"
        },
        "id": "ZYOH5doLJqkE",
        "outputId": "d5e5ddf5-9127-47bd-88b8-d0dd1f360fa1"
      },
      "execution_count": 30,
      "outputs": [
        {
          "output_type": "stream",
          "name": "stdout",
          "text": [
            "False\n"
          ]
        }
      ]
    },
    {
      "cell_type": "code",
      "source": [
        "print(88 in uma_lista[3])"
      ],
      "metadata": {
        "colab": {
          "base_uri": "https://localhost:8080/"
        },
        "id": "koi3gkC6Ju3W",
        "outputId": "bb7ace30-3bf4-4542-bc18-1f8d2ac1174d"
      },
      "execution_count": 32,
      "outputs": [
        {
          "output_type": "stream",
          "name": "stdout",
          "text": [
            "True\n"
          ]
        }
      ]
    },
    {
      "cell_type": "code",
      "source": [
        "uma_lista = [1, 3, 5]"
      ],
      "metadata": {
        "id": "JSnyZL7BJ4hn"
      },
      "execution_count": 33,
      "outputs": []
    },
    {
      "cell_type": "code",
      "source": [
        "outra_lista = [2, 4 ,6]"
      ],
      "metadata": {
        "id": "GI-Z1K4zKD07"
      },
      "execution_count": 34,
      "outputs": []
    },
    {
      "cell_type": "code",
      "source": [
        "print(uma_lista + outra_lista)"
      ],
      "metadata": {
        "colab": {
          "base_uri": "https://localhost:8080/"
        },
        "id": "rLIq9sPmKG29",
        "outputId": "51445028-594c-4afb-bab8-257989f997e0"
      },
      "execution_count": 35,
      "outputs": [
        {
          "output_type": "stream",
          "name": "stdout",
          "text": [
            "[1, 3, 5, 2, 4, 6]\n"
          ]
        }
      ]
    },
    {
      "cell_type": "code",
      "source": [
        "uma_lista = [1, 3, 5]"
      ],
      "metadata": {
        "id": "2tqLc4mPKLbk"
      },
      "execution_count": 36,
      "outputs": []
    },
    {
      "cell_type": "code",
      "source": [
        "print(uma_lista * 3)"
      ],
      "metadata": {
        "colab": {
          "base_uri": "https://localhost:8080/"
        },
        "id": "QKNBVGwSKQSX",
        "outputId": "d0310467-f449-4664-fff5-746597760293"
      },
      "execution_count": 37,
      "outputs": [
        {
          "output_type": "stream",
          "name": "stdout",
          "text": [
            "[1, 3, 5, 1, 3, 5, 1, 3, 5]\n"
          ]
        }
      ]
    },
    {
      "cell_type": "code",
      "source": [
        "uma_lista = [3, 5, 'Cibele', [88, 99, 'Suely'], [], 3.14, False]"
      ],
      "metadata": {
        "id": "Q2W1K1AzKT4k"
      },
      "execution_count": 38,
      "outputs": []
    },
    {
      "cell_type": "code",
      "source": [
        "print(uma_lista[4:])"
      ],
      "metadata": {
        "colab": {
          "base_uri": "https://localhost:8080/"
        },
        "id": "DL4UuAd7Kao2",
        "outputId": "f332c619-e0ab-477a-da14-c786739ef2fc"
      },
      "execution_count": 39,
      "outputs": [
        {
          "output_type": "stream",
          "name": "stdout",
          "text": [
            "[[], 3.14, False]\n"
          ]
        }
      ]
    },
    {
      "cell_type": "code",
      "source": [
        "uma_lista = ['a', 'b', 'c', 'd', 'e', 'f']"
      ],
      "metadata": {
        "id": "giFxSHkXKfMa"
      },
      "execution_count": 40,
      "outputs": []
    },
    {
      "cell_type": "code",
      "source": [
        "uma_lista[1:3] = ['x', 'y']"
      ],
      "metadata": {
        "id": "gFwmZoWVKpS9"
      },
      "execution_count": 41,
      "outputs": []
    },
    {
      "cell_type": "code",
      "source": [
        "print(uma_lista)"
      ],
      "metadata": {
        "colab": {
          "base_uri": "https://localhost:8080/"
        },
        "id": "aw2jgjs_Kv9v",
        "outputId": "0152390e-1f5e-443c-8010-45e61efc120e"
      },
      "execution_count": 42,
      "outputs": [
        {
          "output_type": "stream",
          "name": "stdout",
          "text": [
            "['a', 'x', 'y', 'd', 'e', 'f']\n"
          ]
        }
      ]
    },
    {
      "cell_type": "code",
      "source": [
        "uma_lista = ['a', 'b', 'c', 'd', 'e', 'f']"
      ],
      "metadata": {
        "id": "DANDq4daKzoz"
      },
      "execution_count": 43,
      "outputs": []
    },
    {
      "cell_type": "code",
      "source": [
        "uma_lista[1:3] = []"
      ],
      "metadata": {
        "id": "Um5q0vscK2bn"
      },
      "execution_count": 44,
      "outputs": []
    },
    {
      "cell_type": "code",
      "source": [
        "print(uma_lista)"
      ],
      "metadata": {
        "colab": {
          "base_uri": "https://localhost:8080/"
        },
        "id": "4QQMGTArLTX8",
        "outputId": "992127a3-7d7e-4cf0-ffa5-505ff863a875"
      },
      "execution_count": 45,
      "outputs": [
        {
          "output_type": "stream",
          "name": "stdout",
          "text": [
            "['a', 'd', 'e', 'f']\n"
          ]
        }
      ]
    },
    {
      "cell_type": "code",
      "source": [
        "uma_lista = ['a', 'd', 'f']"
      ],
      "metadata": {
        "id": "yVIolbdRLXSk"
      },
      "execution_count": 46,
      "outputs": []
    },
    {
      "cell_type": "code",
      "source": [
        "uma_lista[1:1] = ['b', 'c']"
      ],
      "metadata": {
        "id": "2DA9ddiqLrUh"
      },
      "execution_count": 47,
      "outputs": []
    },
    {
      "cell_type": "code",
      "source": [
        "print(uma_lista)"
      ],
      "metadata": {
        "colab": {
          "base_uri": "https://localhost:8080/"
        },
        "id": "BdHIRpX2Lyz1",
        "outputId": "d9289813-1a67-41b7-ef72-78b3753adb0a"
      },
      "execution_count": 48,
      "outputs": [
        {
          "output_type": "stream",
          "name": "stdout",
          "text": [
            "['a', 'b', 'c', 'd', 'f']\n"
          ]
        }
      ]
    },
    {
      "cell_type": "code",
      "source": [
        "uma_lista[4:4] = ['e']"
      ],
      "metadata": {
        "id": "T9W9lvxlL84X"
      },
      "execution_count": 49,
      "outputs": []
    },
    {
      "cell_type": "code",
      "source": [
        "print(uma_lista)"
      ],
      "metadata": {
        "colab": {
          "base_uri": "https://localhost:8080/"
        },
        "id": "_dQIjK94MEp7",
        "outputId": "90882a34-dcdb-4d6e-effa-252281c2892e"
      },
      "execution_count": 50,
      "outputs": [
        {
          "output_type": "stream",
          "name": "stdout",
          "text": [
            "['a', 'b', 'c', 'd', 'e', 'f']\n"
          ]
        }
      ]
    },
    {
      "cell_type": "code",
      "source": [
        "uma_lista = [4, 1, 8, 6, 3]"
      ],
      "metadata": {
        "id": "EnQqbZq3MIcf"
      },
      "execution_count": 51,
      "outputs": []
    },
    {
      "cell_type": "code",
      "source": [
        "uma_lista[2] = True"
      ],
      "metadata": {
        "id": "UopnSSzEMMxN"
      },
      "execution_count": 52,
      "outputs": []
    },
    {
      "cell_type": "code",
      "source": [
        "print(uma_lista)"
      ],
      "metadata": {
        "colab": {
          "base_uri": "https://localhost:8080/"
        },
        "id": "uDMAyhh-MRNr",
        "outputId": "f0f5f988-f061-4cbf-a9ae-be8df8364dbc"
      },
      "execution_count": 53,
      "outputs": [
        {
          "output_type": "stream",
          "name": "stdout",
          "text": [
            "[4, 1, True, 6, 3]\n"
          ]
        }
      ]
    },
    {
      "cell_type": "code",
      "source": [
        "a = ['um', 'dois', 'três']"
      ],
      "metadata": {
        "id": "RJhj80QSMUN9"
      },
      "execution_count": 54,
      "outputs": []
    },
    {
      "cell_type": "code",
      "source": [
        "del a[1]"
      ],
      "metadata": {
        "id": "Sh0JnXnfMaoY"
      },
      "execution_count": 55,
      "outputs": []
    },
    {
      "cell_type": "code",
      "source": [
        "print(a)"
      ],
      "metadata": {
        "colab": {
          "base_uri": "https://localhost:8080/"
        },
        "id": "I-U0peDYMdNw",
        "outputId": "0dfc20d6-387e-4d28-fa68-aeaf0099253e"
      },
      "execution_count": 56,
      "outputs": [
        {
          "output_type": "stream",
          "name": "stdout",
          "text": [
            "['um', 'três']\n"
          ]
        }
      ]
    },
    {
      "cell_type": "code",
      "source": [
        "lista = ['a', 'b', 'c', 'd', 'e', 'f']"
      ],
      "metadata": {
        "id": "MxuUZJSoMimE"
      },
      "execution_count": 57,
      "outputs": []
    },
    {
      "cell_type": "code",
      "source": [
        "del lista[1:5]"
      ],
      "metadata": {
        "id": "KZTJLNAbMouP"
      },
      "execution_count": 58,
      "outputs": []
    },
    {
      "cell_type": "code",
      "source": [
        "print(lista)"
      ],
      "metadata": {
        "colab": {
          "base_uri": "https://localhost:8080/"
        },
        "id": "hHzp93XbMrAV",
        "outputId": "c0dfeb9e-bdcf-4408-fbdc-6b819aa07290"
      },
      "execution_count": 59,
      "outputs": [
        {
          "output_type": "stream",
          "name": "stdout",
          "text": [
            "['a', 'f']\n"
          ]
        }
      ]
    },
    {
      "cell_type": "code",
      "source": [
        "lista_a = [4, 1, 8, 6, 3]"
      ],
      "metadata": {
        "id": "QrqG2R3vMtFM"
      },
      "execution_count": 60,
      "outputs": []
    },
    {
      "cell_type": "code",
      "source": [
        "lista_b = lista_a"
      ],
      "metadata": {
        "id": "dR7ElFhTMyjs"
      },
      "execution_count": 61,
      "outputs": []
    },
    {
      "cell_type": "code",
      "source": [
        "lista_b[3] = 22"
      ],
      "metadata": {
        "id": "xOeDKWREM12-"
      },
      "execution_count": 62,
      "outputs": []
    },
    {
      "cell_type": "code",
      "source": [
        "print(lista_a)"
      ],
      "metadata": {
        "colab": {
          "base_uri": "https://localhost:8080/"
        },
        "id": "ZM91zvlWM5c2",
        "outputId": "150c511e-e1fc-4540-de53-2def8eaddbac"
      },
      "execution_count": 63,
      "outputs": [
        {
          "output_type": "stream",
          "name": "stdout",
          "text": [
            "[4, 1, 8, 22, 3]\n"
          ]
        }
      ]
    },
    {
      "cell_type": "code",
      "source": [
        "lista_original = [5, 6, 7, 8]"
      ],
      "metadata": {
        "id": "spYV_YiNM-D-"
      },
      "execution_count": 64,
      "outputs": []
    },
    {
      "cell_type": "code",
      "source": [
        "print(lista_original * 3)"
      ],
      "metadata": {
        "colab": {
          "base_uri": "https://localhost:8080/"
        },
        "id": "ztqIYDH_NCNs",
        "outputId": "302ca93f-7ae8-4002-aa4a-ae3383104b0c"
      },
      "execution_count": 65,
      "outputs": [
        {
          "output_type": "stream",
          "name": "stdout",
          "text": [
            "[5, 6, 7, 8, 5, 6, 7, 8, 5, 6, 7, 8]\n"
          ]
        }
      ]
    },
    {
      "cell_type": "code",
      "source": [
        "lista_original = [5, 6, 7, 8]"
      ],
      "metadata": {
        "id": "KLDLP9BANHwY"
      },
      "execution_count": 66,
      "outputs": []
    },
    {
      "cell_type": "code",
      "source": [
        "print(lista_original * 3)"
      ],
      "metadata": {
        "colab": {
          "base_uri": "https://localhost:8080/"
        },
        "id": "ldZ-bbTKNLmI",
        "outputId": "ae180339-60f4-42ab-dd27-8bbd73665bc6"
      },
      "execution_count": 67,
      "outputs": [
        {
          "output_type": "stream",
          "name": "stdout",
          "text": [
            "[5, 6, 7, 8, 5, 6, 7, 8, 5, 6, 7, 8]\n"
          ]
        }
      ]
    },
    {
      "cell_type": "code",
      "source": [
        "lista_nova = [lista_original] * 3"
      ],
      "metadata": {
        "id": "y7ZYyrVsNM8Q"
      },
      "execution_count": 68,
      "outputs": []
    },
    {
      "cell_type": "code",
      "source": [
        "print(lista_nova)"
      ],
      "metadata": {
        "colab": {
          "base_uri": "https://localhost:8080/"
        },
        "id": "WjQi1IGjNS1l",
        "outputId": "2f2fbdcd-a04d-4d90-d4ff-00244759bcef"
      },
      "execution_count": 69,
      "outputs": [
        {
          "output_type": "stream",
          "name": "stdout",
          "text": [
            "[[5, 6, 7, 8], [5, 6, 7, 8], [5, 6, 7, 8]]\n"
          ]
        }
      ]
    },
    {
      "cell_type": "code",
      "source": [
        "lista_original = [5, 6, 7, 8]"
      ],
      "metadata": {
        "id": "hJlDzIEcNXak"
      },
      "execution_count": 70,
      "outputs": []
    },
    {
      "cell_type": "code",
      "source": [
        "lista_nova = [lista_original] * 3"
      ],
      "metadata": {
        "id": "EzXgOo5BNd4Z"
      },
      "execution_count": 71,
      "outputs": []
    },
    {
      "cell_type": "code",
      "source": [
        "print(lista_nova)"
      ],
      "metadata": {
        "colab": {
          "base_uri": "https://localhost:8080/"
        },
        "id": "PnidjPrONj1h",
        "outputId": "c9c3bf0e-1a22-45b8-e823-19743b1e02da"
      },
      "execution_count": 72,
      "outputs": [
        {
          "output_type": "stream",
          "name": "stdout",
          "text": [
            "[[5, 6, 7, 8], [5, 6, 7, 8], [5, 6, 7, 8]]\n"
          ]
        }
      ]
    },
    {
      "cell_type": "code",
      "source": [
        "lista_original[1] = 22"
      ],
      "metadata": {
        "id": "DzqYUMJkNm7G"
      },
      "execution_count": 73,
      "outputs": []
    },
    {
      "cell_type": "code",
      "source": [
        "print(lista_nova)"
      ],
      "metadata": {
        "colab": {
          "base_uri": "https://localhost:8080/"
        },
        "id": "gx2Xzd6TNqjc",
        "outputId": "7ae35c9d-51b5-4fd9-c893-ef1d60add730"
      },
      "execution_count": 74,
      "outputs": [
        {
          "output_type": "stream",
          "name": "stdout",
          "text": [
            "[[5, 22, 7, 8], [5, 22, 7, 8], [5, 22, 7, 8]]\n"
          ]
        }
      ]
    },
    {
      "cell_type": "code",
      "source": [
        "lista_a = [4, 1, 8, 6, 3]"
      ],
      "metadata": {
        "id": "DSRwXy7-NvqJ"
      },
      "execution_count": 75,
      "outputs": []
    },
    {
      "cell_type": "code",
      "source": [
        "lista_b = lista_a * 2"
      ],
      "metadata": {
        "id": "96lIZBB_N1fx"
      },
      "execution_count": 76,
      "outputs": []
    },
    {
      "cell_type": "code",
      "source": [
        "lista_b[3] = 35"
      ],
      "metadata": {
        "id": "nf-xJ-DrN4kr"
      },
      "execution_count": 77,
      "outputs": []
    },
    {
      "cell_type": "code",
      "source": [
        "print(lista_a)"
      ],
      "metadata": {
        "colab": {
          "base_uri": "https://localhost:8080/"
        },
        "id": "ya7iZIw4N8RM",
        "outputId": "868524d1-a81f-4676-a521-582556a426c7"
      },
      "execution_count": 78,
      "outputs": [
        {
          "output_type": "stream",
          "name": "stdout",
          "text": [
            "[4, 1, 8, 6, 3]\n"
          ]
        }
      ]
    },
    {
      "cell_type": "code",
      "source": [
        "lista_a = [4, 1, 8, 6, 3]"
      ],
      "metadata": {
        "id": "tvwmC6jzN_-h"
      },
      "execution_count": 79,
      "outputs": []
    },
    {
      "cell_type": "code",
      "source": [
        "lista_b = [lista_a] * 2"
      ],
      "metadata": {
        "id": "eEg6nVINODE0"
      },
      "execution_count": 80,
      "outputs": []
    },
    {
      "cell_type": "code",
      "source": [
        "lista_a[3] = 35"
      ],
      "metadata": {
        "id": "Q7sj8n_dOHLq"
      },
      "execution_count": 81,
      "outputs": []
    },
    {
      "cell_type": "code",
      "source": [
        "print(lista_b)"
      ],
      "metadata": {
        "colab": {
          "base_uri": "https://localhost:8080/"
        },
        "id": "vIkaN0EoOLjr",
        "outputId": "527d4d56-255f-4770-e603-77aaee3c47b6"
      },
      "execution_count": 82,
      "outputs": [
        {
          "output_type": "stream",
          "name": "stdout",
          "text": [
            "[[4, 1, 8, 35, 3], [4, 1, 8, 35, 3]]\n"
          ]
        }
      ]
    },
    {
      "cell_type": "code",
      "source": [
        "uma_lista = [4, 1, 8, 6, 3]"
      ],
      "metadata": {
        "id": "dx-tN_v0OPGC"
      },
      "execution_count": 84,
      "outputs": []
    },
    {
      "cell_type": "code",
      "source": [
        "uma_lista.append(True)"
      ],
      "metadata": {
        "id": "6-Gz7qf_OSZo"
      },
      "execution_count": 85,
      "outputs": []
    },
    {
      "cell_type": "code",
      "source": [
        "uma_lista.append(False)"
      ],
      "metadata": {
        "id": "Rmz2CDKmObFg"
      },
      "execution_count": 86,
      "outputs": []
    },
    {
      "cell_type": "code",
      "source": [
        "print(uma_lista)"
      ],
      "metadata": {
        "colab": {
          "base_uri": "https://localhost:8080/"
        },
        "id": "par9VivFOdHR",
        "outputId": "4bd6408f-3063-4047-ec99-abdef341b659"
      },
      "execution_count": 87,
      "outputs": [
        {
          "output_type": "stream",
          "name": "stdout",
          "text": [
            "[4, 1, 8, 6, 3, True, False]\n"
          ]
        }
      ]
    },
    {
      "cell_type": "code",
      "source": [
        "uma_lista = [4, 1, 8, 6, 3]"
      ],
      "metadata": {
        "id": "EnEY-8kzOjBk"
      },
      "execution_count": 88,
      "outputs": []
    },
    {
      "cell_type": "code",
      "source": [
        "uma_lista.insert(2, True)"
      ],
      "metadata": {
        "id": "wFBOA-IoOj0k"
      },
      "execution_count": 89,
      "outputs": []
    },
    {
      "cell_type": "code",
      "source": [
        "uma_lista.insert(0, False)"
      ],
      "metadata": {
        "id": "o_1vUfXZOppE"
      },
      "execution_count": 90,
      "outputs": []
    },
    {
      "cell_type": "code",
      "source": [
        "print(uma_lista)"
      ],
      "metadata": {
        "colab": {
          "base_uri": "https://localhost:8080/"
        },
        "id": "n1_kZDcTOuns",
        "outputId": "c365ddbd-f7ad-4625-e1d9-5ef09611c8fa"
      },
      "execution_count": 91,
      "outputs": [
        {
          "output_type": "stream",
          "name": "stdout",
          "text": [
            "[False, 4, 1, True, 8, 6, 3]\n"
          ]
        }
      ]
    },
    {
      "cell_type": "code",
      "source": [
        "uma_lista = [4, 1, 8, 6, 3]"
      ],
      "metadata": {
        "id": "Twfi4OJXO1Nk"
      },
      "execution_count": 92,
      "outputs": []
    },
    {
      "cell_type": "code",
      "source": [
        "temp = uma_lista.pop(2)"
      ],
      "metadata": {
        "id": "UzjLQRz3O330"
      },
      "execution_count": 93,
      "outputs": []
    },
    {
      "cell_type": "code",
      "source": [
        "temp = uma_lista.pop()"
      ],
      "metadata": {
        "id": "UaLXDxU8O4yz"
      },
      "execution_count": 94,
      "outputs": []
    },
    {
      "cell_type": "code",
      "source": [
        "print(uma_lista)"
      ],
      "metadata": {
        "colab": {
          "base_uri": "https://localhost:8080/"
        },
        "id": "8MfuiSQWO6QT",
        "outputId": "d9317c75-ee58-4cd7-c30c-16826c31b6f2"
      },
      "execution_count": 95,
      "outputs": [
        {
          "output_type": "stream",
          "name": "stdout",
          "text": [
            "[4, 1, 6]\n"
          ]
        }
      ]
    },
    {
      "cell_type": "code",
      "source": [
        "uma_lista = [4, 1, 8, 6, 3]"
      ],
      "metadata": {
        "id": "xybflJS8O8xH"
      },
      "execution_count": 96,
      "outputs": []
    },
    {
      "cell_type": "code",
      "source": [
        "uma_lista = uma_lista.pop(0)"
      ],
      "metadata": {
        "id": "exMdUpelPDpm"
      },
      "execution_count": 97,
      "outputs": []
    },
    {
      "cell_type": "code",
      "source": [
        "print(uma_lista)"
      ],
      "metadata": {
        "colab": {
          "base_uri": "https://localhost:8080/"
        },
        "id": "2RZzyb_nPIzY",
        "outputId": "e04b0a9c-a868-4025-bd14-50d615dc0d5d"
      },
      "execution_count": 98,
      "outputs": [
        {
          "output_type": "stream",
          "name": "stdout",
          "text": [
            "4\n"
          ]
        }
      ]
    }
  ]
}